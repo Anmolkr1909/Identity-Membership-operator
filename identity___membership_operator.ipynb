{
  "nbformat": 4,
  "nbformat_minor": 0,
  "metadata": {
    "colab": {
      "provenance": [],
      "include_colab_link": true
    },
    "kernelspec": {
      "name": "python3",
      "display_name": "Python 3"
    },
    "language_info": {
      "name": "python"
    }
  },
  "cells": [
    {
      "cell_type": "markdown",
      "metadata": {
        "id": "view-in-github",
        "colab_type": "text"
      },
      "source": [
        "<a href=\"https://colab.research.google.com/github/Anmolkr1909/Identity-Membership-operator/blob/main/identity___membership_operator.ipynb\" target=\"_parent\"><img src=\"https://colab.research.google.com/assets/colab-badge.svg\" alt=\"Open In Colab\"/></a>"
      ]
    },
    {
      "cell_type": "markdown",
      "source": [
        "**Identity & Membership operator**\n",
        "\n",
        "\n",
        "---\n",
        "\n",
        "\n"
      ],
      "metadata": {
        "id": "xrMDNuAun6rd"
      }
    },
    {
      "cell_type": "markdown",
      "source": [
        "32) User login system\n",
        "*  check if entered user name in list"
      ],
      "metadata": {
        "id": "gnbFruQvotEz"
      }
    },
    {
      "cell_type": "code",
      "source": [
        "user_list = [\"admin\", \"anmol\", \"amit\"]\n",
        "\n",
        "username = input(\"Enter your username: \")\n",
        "\n",
        "if username in user_list:\n",
        "    print(\"Welcome, \" + username + \"!\")\n",
        "else:\n",
        "    print(\"Username not found.\")"
      ],
      "metadata": {
        "colab": {
          "base_uri": "https://localhost:8080/"
        },
        "id": "458FuVbqpvRA",
        "outputId": "93520bd8-e0a6-424a-b97f-42670b936732"
      },
      "execution_count": null,
      "outputs": [
        {
          "output_type": "stream",
          "name": "stdout",
          "text": [
            "Enter your username: anmol\n",
            "Welcome, anmol!\n"
          ]
        }
      ]
    },
    {
      "cell_type": "markdown",
      "source": [
        "\n",
        "\n",
        "---\n",
        "\n"
      ],
      "metadata": {
        "id": "z93hRK0OtrrH"
      }
    },
    {
      "cell_type": "markdown",
      "source": [
        "33) Restricted word filter\n",
        "* prevent se of bad word in comment box"
      ],
      "metadata": {
        "id": "98v8pGXcqOot"
      }
    },
    {
      "cell_type": "code",
      "source": [
        "comment = input(\"Enter your comment: \")\n",
        "restricted_words = [\"abuse\", \"spam\", \"fake\"] # Add your restricted words here\n",
        "\n",
        "if any(word in comment for word in restricted_words):\n",
        "    print(\"Your comment contains restricted words. Please revise.\")\n",
        "else:\n",
        "    print(\"Comment submitted successfully.\")"
      ],
      "metadata": {
        "colab": {
          "base_uri": "https://localhost:8080/"
        },
        "id": "dYwhKYhtqzi-",
        "outputId": "8c0c1a84-2871-4f0d-e1ad-73803cdf296b"
      },
      "execution_count": null,
      "outputs": [
        {
          "output_type": "stream",
          "name": "stdout",
          "text": [
            "Enter your comment: abuse\n",
            "Your comment contains restricted words. Please revise.\n"
          ]
        }
      ]
    },
    {
      "cell_type": "markdown",
      "source": [
        "\n",
        "\n",
        "---\n",
        "\n"
      ],
      "metadata": {
        "id": "K5XqfbEutqd9"
      }
    },
    {
      "cell_type": "markdown",
      "source": [
        "34) Book Available in library\n",
        "* A student want to check if a boo k is in library"
      ],
      "metadata": {
        "id": "GnDPRE8wrP28"
      }
    },
    {
      "cell_type": "code",
      "source": [
        "\n",
        "\n",
        "library_books = [\"python\",\"DSA\",\"AI/ML\",\"AI engineer\"]\n",
        "\n",
        "book = input(\"Enter the book title: \")\n",
        "\n",
        "if book in library_books:\n",
        "    print(f\"Yes, '{book}' is available in the library.\")\n",
        "else:\n",
        "    print(f\"Sorry, '{book}' is not currently available in the library.\")"
      ],
      "metadata": {
        "colab": {
          "base_uri": "https://localhost:8080/"
        },
        "id": "UpqVuIQqs7N1",
        "outputId": "2fe59659-5ad9-497c-c7ad-c74b0bcf9a6e"
      },
      "execution_count": null,
      "outputs": [
        {
          "output_type": "stream",
          "name": "stdout",
          "text": [
            "Enter the book title: python\n",
            "Yes, 'python' is available in the library.\n"
          ]
        }
      ]
    },
    {
      "cell_type": "markdown",
      "source": [
        "\n",
        "\n",
        "---\n",
        "\n"
      ],
      "metadata": {
        "id": "SntTF8vsowTT"
      }
    }
  ]
}